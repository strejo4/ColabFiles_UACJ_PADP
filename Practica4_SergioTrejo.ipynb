{
  "nbformat": 4,
  "nbformat_minor": 0,
  "metadata": {
    "colab": {
      "provenance": [],
      "mount_file_id": "1fR2Gh6PgBpDHnQ1ko83_oxYjXgO8NCK0",
      "authorship_tag": "ABX9TyMG5J1MSNCkeorU7Q4mcg4e",
      "include_colab_link": true
    },
    "kernelspec": {
      "name": "python3",
      "display_name": "Python 3"
    },
    "language_info": {
      "name": "python"
    }
  },
  "cells": [
    {
      "cell_type": "markdown",
      "metadata": {
        "id": "view-in-github",
        "colab_type": "text"
      },
      "source": [
        "<a href=\"https://colab.research.google.com/github/strejo4/ColabFiles_UACJ_PADP/blob/main/Practica4_SergioTrejo.ipynb\" target=\"_parent\"><img src=\"https://colab.research.google.com/assets/colab-badge.svg\" alt=\"Open In Colab\"/></a>"
      ]
    },
    {
      "cell_type": "markdown",
      "source": [
        "# Manipulación de matrices\n",
        "\n",
        "**Crea dos matrices de 3x3 con números aleatorios entre 1 y 10. Realiza las siguientes operaciones:**\n",
        "\n",
        "* Suma ambas matrices.\n",
        "* Resta la segunda matriz de la primera.\n",
        "* Multiplica la primera matriz por 2.\n",
        "* Realiza una multiplicación matricial entre las dos matrices."
      ],
      "metadata": {
        "id": "edtrFmY0Vv-5"
      }
    },
    {
      "cell_type": "code",
      "source": [
        "import numpy as np\n",
        "\n",
        "A = np.random.randint(1, 11, (3, 3))\n",
        "B = np.random.randint(1, 11, (3, 3))\n",
        "\n",
        "print(f'Matriz A: {A}')\n",
        "print(f'Matriz B:{B}')\n",
        "\n",
        "#Suma de ambas matrices\n",
        "suma_matrices = A + B\n",
        "print(f'Suma de ambas matrices: {suma_matrices}')\n",
        "\n",
        "#Resta la segunda matrix de la primera\n",
        "resta_matrices = A - B\n",
        "print(f'Resta de ambas matrices: {resta_matrices}')\n",
        "\n",
        "#Multiplica la primera matriz por 2\n",
        "multiplicacion_matrices = A * 2\n",
        "print(f'Multiplicacion de ambas matrices: {multiplicacion_matrices}')\n",
        "\n",
        "#Realiza una multiplicacion matricial entre las dos matrices\n",
        "multiplicacion_matricial = np.dot(A, B)\n",
        "print(f'Multiplicacion matricial de ambas matrices: {multiplicacion_matricial}')"
      ],
      "metadata": {
        "colab": {
          "base_uri": "https://localhost:8080/"
        },
        "id": "q8lq0BseWwC9",
        "outputId": "9c76c11c-ed47-422c-a384-53699567133f"
      },
      "execution_count": 9,
      "outputs": [
        {
          "output_type": "stream",
          "name": "stdout",
          "text": [
            "Matriz A: [[ 5  3  3]\n",
            " [ 3  7  1]\n",
            " [ 3  5 10]]\n",
            "Matriz B:[[ 1  1  7]\n",
            " [10  9  7]\n",
            " [ 9  5 10]]\n",
            "Suma de ambas matrices: [[ 6  4 10]\n",
            " [13 16  8]\n",
            " [12 10 20]]\n",
            "Resta de ambas matrices: [[ 4  2 -4]\n",
            " [-7 -2 -6]\n",
            " [-6  0  0]]\n",
            "Multiplicacion de ambas matrices: [[10  6  6]\n",
            " [ 6 14  2]\n",
            " [ 6 10 20]]\n",
            "Multiplicacion matricial de ambas matrices: [[ 62  47  86]\n",
            " [ 82  71  80]\n",
            " [143  98 156]]\n"
          ]
        }
      ]
    }
  ]
}