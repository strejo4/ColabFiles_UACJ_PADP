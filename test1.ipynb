{
  "nbformat": 4,
  "nbformat_minor": 0,
  "metadata": {
    "colab": {
      "provenance": [],
      "mount_file_id": "1VHY6FwaWTnnc2GwvBKv6ko5IMR7n5wky",
      "authorship_tag": "ABX9TyNy5I9pHxfaLj7Nyux0i/df",
      "include_colab_link": true
    },
    "kernelspec": {
      "name": "python3",
      "display_name": "Python 3"
    },
    "language_info": {
      "name": "python"
    }
  },
  "cells": [
    {
      "cell_type": "markdown",
      "metadata": {
        "id": "view-in-github",
        "colab_type": "text"
      },
      "source": [
        "<a href=\"https://colab.research.google.com/github/strejo4/ColabFiles_UACJ_PADP/blob/main/test1.ipynb\" target=\"_parent\"><img src=\"https://colab.research.google.com/assets/colab-badge.svg\" alt=\"Open In Colab\"/></a>"
      ]
    },
    {
      "cell_type": "markdown",
      "source": [
        "# **EJEMPLO DE CONEXION DE GOOGLE DRIVE A GOOGLE COLAB**"
      ],
      "metadata": {
        "id": "OY8nYYR3pSdH"
      }
    },
    {
      "cell_type": "code",
      "source": [
        "print('Hola que tal')"
      ],
      "metadata": {
        "colab": {
          "base_uri": "https://localhost:8080/"
        },
        "id": "7VWnzZyDpppb",
        "outputId": "9b5c68e4-abdc-4c5b-a89d-c71a0bb6f34c"
      },
      "execution_count": 3,
      "outputs": [
        {
          "output_type": "stream",
          "name": "stdout",
          "text": [
            "Hola que tal\n"
          ]
        }
      ]
    },
    {
      "cell_type": "code",
      "source": [],
      "metadata": {
        "id": "jo0227LOrTYD"
      },
      "execution_count": null,
      "outputs": []
    }
  ]
}