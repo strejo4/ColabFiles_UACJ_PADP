{
  "nbformat": 4,
  "nbformat_minor": 0,
  "metadata": {
    "colab": {
      "provenance": [],
      "mount_file_id": "1f4u-wQhDn0x3RMq9Nt-pqeX5Ah2hlxDM",
      "authorship_tag": "ABX9TyPi+E2TS3naKuzEu0W3qbwb",
      "include_colab_link": true
    },
    "kernelspec": {
      "name": "python3",
      "display_name": "Python 3"
    },
    "language_info": {
      "name": "python"
    }
  },
  "cells": [
    {
      "cell_type": "markdown",
      "metadata": {
        "id": "view-in-github",
        "colab_type": "text"
      },
      "source": [
        "<a href=\"https://colab.research.google.com/github/strejo4/ColabFiles_UACJ_PADP/blob/main/Ejercicios_de_probabilidad_y_simulaci%C3%B3n_de_distribuciones.ipynb\" target=\"_parent\"><img src=\"https://colab.research.google.com/assets/colab-badge.svg\" alt=\"Open In Colab\"/></a>"
      ]
    },
    {
      "cell_type": "markdown",
      "source": [
        "## Compruebe los resultados teóricos obtenidos utilizando un programa de que simule ambos ejercicios. Repita el problema un número suficientemente grande de veces y determine con que precisión el resultado teórico puede ser corroborado experimentalmente."
      ],
      "metadata": {
        "id": "uCPGlIZ4Kv9k"
      }
    },
    {
      "cell_type": "code",
      "source": [
        "import numpy as np\n",
        "\n",
        "# Número de simulaciones\n",
        "N = 1000000\n",
        "\n",
        "# Simulación de dos dados\n",
        "dado1 = np.random.randint(1, 7, N)\n",
        "dado2 = np.random.randint(1, 7, N)\n",
        "suma = dado1 + dado2\n",
        "\n",
        "# Probabilidades\n",
        "p_suma7 = np.mean(suma == 7)\n",
        "p_suma_mayor10 = np.mean(suma > 10)\n",
        "\n",
        "print(f\"P(suma=7)  = {p_suma7:.3f}\")\n",
        "print(f\"P(suma>10) = {p_suma_mayor10:.3f}\")\n",
        "\n"
      ],
      "metadata": {
        "colab": {
          "base_uri": "https://localhost:8080/"
        },
        "id": "XHhQdxsbKzZR",
        "outputId": "e9d1ed9b-1368-435d-b831-6be15abec48d"
      },
      "execution_count": 4,
      "outputs": [
        {
          "output_type": "stream",
          "name": "stdout",
          "text": [
            "P(suma=7)  = 0.167\n",
            "P(suma>10) = 0.083\n"
          ]
        }
      ]
    }
  ]
}