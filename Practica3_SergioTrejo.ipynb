{
  "nbformat": 4,
  "nbformat_minor": 0,
  "metadata": {
    "colab": {
      "provenance": [],
      "authorship_tag": "ABX9TyOoD5Ud+e+kQNuHWua/zuUE",
      "include_colab_link": true
    },
    "kernelspec": {
      "name": "python3",
      "display_name": "Python 3"
    },
    "language_info": {
      "name": "python"
    }
  },
  "cells": [
    {
      "cell_type": "markdown",
      "metadata": {
        "id": "view-in-github",
        "colab_type": "text"
      },
      "source": [
        "<a href=\"https://colab.research.google.com/github/strejo4/ColabFiles_UACJ_PADP/blob/main/Practica3_SergioTrejo.ipynb\" target=\"_parent\"><img src=\"https://colab.research.google.com/assets/colab-badge.svg\" alt=\"Open In Colab\"/></a>"
      ]
    },
    {
      "cell_type": "markdown",
      "source": [
        "## Creación de un arreglo y operaciones básicas\n",
        "\n",
        "Crea un arreglo unidimensional de 20 elementos con valores aleatorios entre 1 y 100. Luego, realiza las siguientes operaciones:\n",
        "\n",
        "* Encuentra el valor máximo del arreglo.\n",
        "* Encuentra el valor mínimo del arreglo.\n",
        "* Calcula la media del arreglo.\n",
        "* Suma 10 a cada elemento del arreglo.\n"
      ],
      "metadata": {
        "id": "VRbKY0w1NzeS"
      }
    },
    {
      "cell_type": "markdown",
      "source": [
        "# Arreglo multidimensional de 20 elementos con valores aleatorios entre 1 y 100"
      ],
      "metadata": {
        "id": "5jhHlxPPPSqE"
      }
    },
    {
      "cell_type": "code",
      "source": [
        "import numpy as np\n",
        "arreglo = np.random.randint(1,101, 20)\n",
        "print(arreglo)\n"
      ],
      "metadata": {
        "colab": {
          "base_uri": "https://localhost:8080/"
        },
        "id": "pl8X4JKWOhJC",
        "outputId": "91cc641c-5794-4960-e2bc-150b55226a23"
      },
      "execution_count": 2,
      "outputs": [
        {
          "output_type": "stream",
          "name": "stdout",
          "text": [
            "[ 61  82  98  68  64  78  91  21  16  78  22  24  49  81  19  95  60 100\n",
            "  28  84]\n"
          ]
        }
      ]
    },
    {
      "cell_type": "markdown",
      "source": [],
      "metadata": {
        "id": "XVa_TSFDPb2H"
      }
    },
    {
      "cell_type": "markdown",
      "source": [
        "**1. Encuentra el valor maximo del arreglo**"
      ],
      "metadata": {
        "id": "zSAU-LDeO_8O"
      }
    },
    {
      "cell_type": "code",
      "source": [
        "valor_maximo = np.max(arreglo)\n",
        "print(valor_maximo)"
      ],
      "metadata": {
        "colab": {
          "base_uri": "https://localhost:8080/"
        },
        "id": "reWXhrWtPlYz",
        "outputId": "5ae2d1fe-8c71-491f-9443-a219b59264b0"
      },
      "execution_count": 4,
      "outputs": [
        {
          "output_type": "stream",
          "name": "stdout",
          "text": [
            "100\n"
          ]
        }
      ]
    },
    {
      "cell_type": "markdown",
      "source": [
        "**2.Encuentra el valor minimo del arreglo**"
      ],
      "metadata": {
        "id": "NIKTl5rtPwy6"
      }
    },
    {
      "cell_type": "code",
      "source": [
        "valor_minimo = np.min(arreglo)\n",
        "print(valor_minimo)"
      ],
      "metadata": {
        "colab": {
          "base_uri": "https://localhost:8080/"
        },
        "id": "UgM8CriWP1_a",
        "outputId": "1ee610cb-964f-43e2-a203-b62972f9c09a"
      },
      "execution_count": 6,
      "outputs": [
        {
          "output_type": "stream",
          "name": "stdout",
          "text": [
            "16\n"
          ]
        }
      ]
    },
    {
      "cell_type": "markdown",
      "source": [
        "**3. Calcula la media del arreglo**"
      ],
      "metadata": {
        "id": "DGyzrlLHQCjF"
      }
    },
    {
      "cell_type": "code",
      "source": [
        "arreglo_media = np.mean(arreglo)\n",
        "print(arreglo_media)"
      ],
      "metadata": {
        "colab": {
          "base_uri": "https://localhost:8080/"
        },
        "id": "569yu-2YQsTz",
        "outputId": "0e0d965d-1d8f-461d-8daa-9ba815f893e5"
      },
      "execution_count": 7,
      "outputs": [
        {
          "output_type": "stream",
          "name": "stdout",
          "text": [
            "60.95\n"
          ]
        }
      ]
    },
    {
      "cell_type": "markdown",
      "source": [
        "**4. Suma 10 a cada elemento del arreglo**"
      ],
      "metadata": {
        "id": "eQ0AzQTqQ34R"
      }
    },
    {
      "cell_type": "code",
      "source": [
        "nuevo_arreglo = arreglo + 10\n",
        "print(nuevo_arreglo)"
      ],
      "metadata": {
        "colab": {
          "base_uri": "https://localhost:8080/"
        },
        "id": "MT8wit2wRBwg",
        "outputId": "e15e64f5-3985-47c8-9230-2a2c3cdd0543"
      },
      "execution_count": 10,
      "outputs": [
        {
          "output_type": "stream",
          "name": "stdout",
          "text": [
            "[ 71  92 108  78  74  88 101  31  26  88  32  34  59  91  29 105  70 110\n",
            "  38  94]\n"
          ]
        }
      ]
    }
  ]
}