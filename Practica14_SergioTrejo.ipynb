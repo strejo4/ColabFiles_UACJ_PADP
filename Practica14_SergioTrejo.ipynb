{
  "nbformat": 4,
  "nbformat_minor": 0,
  "metadata": {
    "colab": {
      "provenance": [],
      "mount_file_id": "1UE_gFqOgPwgL8Bf4_BTSnK-d_GJubksh",
      "authorship_tag": "ABX9TyOHV+rcPPEM6WKHO7hLKXLR",
      "include_colab_link": true
    },
    "kernelspec": {
      "name": "python3",
      "display_name": "Python 3"
    },
    "language_info": {
      "name": "python"
    }
  },
  "cells": [
    {
      "cell_type": "markdown",
      "metadata": {
        "id": "view-in-github",
        "colab_type": "text"
      },
      "source": [
        "<a href=\"https://colab.research.google.com/github/strejo4/ColabFiles_UACJ_PADP/blob/main/Practica14_SergioTrejo.ipynb\" target=\"_parent\"><img src=\"https://colab.research.google.com/assets/colab-badge.svg\" alt=\"Open In Colab\"/></a>"
      ]
    },
    {
      "cell_type": "markdown",
      "source": [
        "## Práctica #14: Limpieza y Transformación de Datos Categóricos\n",
        "\n",
        "Enlace repositorio github: https://github.com/strejo4/ColabFiles_UACJ_PADP/blob/main/Practica14_SergioTrejo.ipynb\n",
        "\n",
        "El objetivo de esta actividad es que los estudiantes practiquen los temas vistos de limpieza y transformación de datos categóricos.\n",
        "\n",
        "Instrucciones:\n",
        "\n",
        "Descarga el archivo CSV, nls97, proporcionado en esta tarea. También lo puedes encontrar en recursos.\n",
        "Crea un notebook en colab y guarda el archivo csv descargado en tu drive.\n",
        "Agrega secciones en el colab poniendo como título el nombre de cada ejercicio"
      ],
      "metadata": {
        "id": "aafSCYOna3IC"
      }
    },
    {
      "cell_type": "markdown",
      "source": [
        "Ejercicio 01: Errores Tipográficos y Valores Inconsistentes: maritalstatus\n",
        "\n",
        "1. Imprime de la columna 'maritalstatus' los valores únicos.\n",
        "2. Imprime la frecuencia de cada valor único\n",
        "3. Cambia el valor 'Never-Married' a 'Single'\n",
        "4. Imprime la frecuencia de cada valor único."
      ],
      "metadata": {
        "id": "rbu66DjWbTCh"
      }
    },
    {
      "cell_type": "code",
      "execution_count": 56,
      "metadata": {
        "colab": {
          "base_uri": "https://localhost:8080/"
        },
        "id": "vLKjXDMWa0Ak",
        "outputId": "3c9777cd-3467-436f-e929-17cbef205877"
      },
      "outputs": [
        {
          "output_type": "stream",
          "name": "stdout",
          "text": [
            "Valores unico de la columna maritalstatus: \n",
            " ['Married' 'Never-married' nan 'Divorced' 'Separated' 'Widowed']\n",
            "Frecuencia de la columna highestdegrees: \n",
            " maritalstatus\n",
            "Married          3066\n",
            "Never-married    2766\n",
            "Divorced          663\n",
            "Separated         154\n",
            "Widowed            23\n",
            "Name: count, dtype: int64\n",
            "maritalstatus\n",
            "Married      3066\n",
            "Single       2766\n",
            "Divorced      663\n",
            "Separated     154\n",
            "Widowed        23\n",
            "Name: count, dtype: int64\n"
          ]
        }
      ],
      "source": [
        "import pandas as pd\n",
        "df = pd.read_csv(\"/content/drive/MyDrive/ClassFiles/nls97.csv\")\n",
        "#Imprime de la columna 'maritalstatus' los valores únicos.\n",
        "print('Valores unico de la columna maritalstatus: \\n', df['maritalstatus'].unique())\n",
        "#Imprime la frecuencia de cada valor único\n",
        "print('Frecuencia de la columna highestdegrees: \\n', df['maritalstatus'].value_counts())\n",
        "#Cambia el valor 'Never-Married' a 'Single'\n",
        "df['maritalstatus'] = df['maritalstatus'].replace({'Never-married': 'Single'})\n",
        "#Imprime la frecuencia de cada valor único.\n",
        "print(df['maritalstatus'].value_counts())\n"
      ]
    },
    {
      "cell_type": "markdown",
      "source": [],
      "metadata": {
        "id": "uiW7rA-teoTB"
      }
    },
    {
      "cell_type": "markdown",
      "source": [
        "Ejercicio 02: Errores Tipográficos y Valores Inconsistentes: highestdegree.\n",
        "\n",
        "1. Imprime de la columna 'highestdegrees' los valores únicos.\n",
        "2. Imprime la frecuencia de cada valor único\n",
        "3. Observa que cada valor categórico empieza con 0. Modifica las categorías para que todas estén en minúsculas y ninguna empiece con un número. Por ejemplo, si dice \"2. High School\", debería ser 'high school.\n",
        "4. Los cambios se realizarán en la misma columna 'highestdegrees'.\n",
        "5. Imprime los nuevos valores únicos."
      ],
      "metadata": {
        "id": "Mti0oB3Jb6ox"
      }
    },
    {
      "cell_type": "markdown",
      "source": [],
      "metadata": {
        "id": "MuvPq903er0h"
      }
    },
    {
      "cell_type": "code",
      "source": [
        "#Imprime de la columna 'highestdegrees' los valores únicos.\n",
        "print('Valores unico de la columna highestdegree: \\n', df['highestdegree'].unique())\n",
        "#Imprime la frecuencia de cada valor único\n",
        "print('Frecuencia de la columna highestdegree: \\n', df['highestdegree'].value_counts())\n",
        "#Observa que cada valor categórico empieza con 0. Modifica las categorías para que todas estén en minúsculas y ninguna empiece con un número.\n",
        "#Por ejemplo, si dice \"2. High School\", debería ser 'high school.\n",
        "#Los cambios se realizarán en la misma columna 'highestdegrees'.\n",
        "df['highestdegree'] = df['highestdegree'].str.replace(r'^\\d+\\.', '', regex=True)\n",
        "df['highestdegree'] = df['highestdegree'].str.lower()\n",
        "#Imprime los nuevos valores únicos.\n",
        "print('Valores unico de la columna highestdegree: \\n', df['highestdegree'].unique())\n",
        "\n"
      ],
      "metadata": {
        "colab": {
          "base_uri": "https://localhost:8080/"
        },
        "id": "zSjBOXSufCjq",
        "outputId": "30a88e32-40d6-4c92-8e9c-9d9c4d77bfd0"
      },
      "execution_count": 57,
      "outputs": [
        {
          "output_type": "stream",
          "name": "stdout",
          "text": [
            "Valores unico de la columna highestdegree: \n",
            " ['2. High School' '0. None' '4. Bachelors' '3. Associates' '5. Masters'\n",
            " '1. GED' '7. Professional' '6. PhD' nan]\n",
            "Frecuencia de la columna highestdegree: \n",
            " highestdegree\n",
            "2. High School     3667\n",
            "4. Bachelors       1673\n",
            "1. GED             1146\n",
            "0. None             953\n",
            "3. Associates       737\n",
            "5. Masters          603\n",
            "7. Professional     120\n",
            "6. PhD               54\n",
            "Name: count, dtype: int64\n",
            "Valores unico de la columna highestdegree: \n",
            " [' high school' ' none' ' bachelors' ' associates' ' masters' ' ged'\n",
            " ' professional' ' phd' nan]\n"
          ]
        }
      ]
    },
    {
      "cell_type": "markdown",
      "source": [
        "Ejercicio 03: Alta Cardinalidad - Frecuencias Bajas\n",
        "\n",
        "1. De la columna 'maritalstatus' une las categorías Widowed y 'Single' en una categoría más general llamada 'Single/No Partner'.\n",
        "2. Crea una nueva columna, 'marital_grouped' donde aparezcan las nuevas categorías de maritalstatus.\n",
        "3. Imprime los valores únicos de la nueva columna 'marital_grouped'.\n",
        "4. Imprime la frecuencia de los valores únicos de la nueva columna 'marital_grouped'"
      ],
      "metadata": {
        "id": "HveqfC3jfeB0"
      }
    },
    {
      "cell_type": "code",
      "source": [
        "#De la columna 'maritalstatus' une las categorías Widowed y 'Single' en una categoría más general llamada 'Single/No Partner'.\n",
        "# Crea una nueva columna, 'marital_grouped' donde aparezcan las nuevas categorías de maritalstatus.\n",
        "df['maritalstatus_grouped'] = df['maritalstatus'].replace({'Widowed': 'Single/No Partner','Single': 'Single/No Partner'})\n",
        "print(df['maritalstatus_grouped'])\n",
        "#Imprime los valores únicos de la nueva columna 'marital_grouped'.\n",
        "print('Valores unico de la columna maritalstatus_grouped: \\n', df['maritalstatus_grouped'].unique())\n",
        "#Imprime la frecuencia de los valores únicos de la nueva columna 'marital_grouped'\n",
        "print('Frecuencia de la columna maritalstatus_grouped: \\n', df['maritalstatus_grouped'].value_counts())"
      ],
      "metadata": {
        "colab": {
          "base_uri": "https://localhost:8080/"
        },
        "id": "3_c7eVLVk70a",
        "outputId": "da46bde9-5118-4c82-dc4d-fcf251a3eaa9"
      },
      "execution_count": 42,
      "outputs": [
        {
          "output_type": "stream",
          "name": "stdout",
          "text": [
            "0                 Married\n",
            "1                 Married\n",
            "2       Single/No Partner\n",
            "3                     NaN\n",
            "4                 Married\n",
            "              ...        \n",
            "8979              Married\n",
            "8980    Single/No Partner\n",
            "8981             Divorced\n",
            "8982    Single/No Partner\n",
            "8983              Married\n",
            "Name: maritalstatus_grouped, Length: 8984, dtype: object\n",
            "Valores unico de la columna maritalstatus_grouped: \n",
            " ['Married' 'Single/No Partner' nan 'Divorced' 'Separated']\n",
            "Frecuencia de la columna maritalstatus_grouped: \n",
            " maritalstatus_grouped\n",
            "Married              3066\n",
            "Single/No Partner    2789\n",
            "Divorced              663\n",
            "Separated             154\n",
            "Name: count, dtype: int64\n"
          ]
        }
      ]
    },
    {
      "cell_type": "markdown",
      "source": [
        "Ejercicio 04: Tipos de Datos\n",
        "\n",
        "1. Imprime el tipo de datos de la columna gender\n",
        "2. Imprime la cantidad de bytes de dicha columna\n",
        "3. Si la columna es de tipo object, modifica a category.\n",
        "4. En caso de haber realizado la modificación del tipo de datos, imprime la cantidad de bytes que ocupa dicha columna con el nuevo tipo de datos"
      ],
      "metadata": {
        "id": "TcJ51X4ymUvW"
      }
    },
    {
      "cell_type": "code",
      "source": [
        "#Imprime el tipo de datos de la columna gender\n",
        "print('Tipo de datos de la columna gender: \\n', df['gender'].dtype)\n",
        "#Imprime la cantidad de bytes de dicha columna\n",
        "print(f'Memoria total en bytes: {df[\"gender\"].memory_usage(deep=True)}')\n",
        "#Si la columna es de tipo object, modifica a category.\n",
        "df['gender'] = df['gender'].astype('category')\n",
        "print('Tipo de datos de la columna gender: \\n', df['gender'].dtype)\n",
        "#En caso de haber realizado la modificación del tipo de datos, imprime la cantidad de bytes que ocupa dicha columna con el nuevo tipo de datos\n",
        "print(f'Memoria total en bytes despues de modificar el tipo de dato: {df[\"gender\"].memory_usage(deep=True)}')"
      ],
      "metadata": {
        "colab": {
          "base_uri": "https://localhost:8080/"
        },
        "id": "a3w_svcuoINb",
        "outputId": "851f3f66-34c1-4b70-de18-0feb00ccf42b"
      },
      "execution_count": 70,
      "outputs": [
        {
          "output_type": "stream",
          "name": "stdout",
          "text": [
            "Tipo de datos de la columna gender: \n",
            " object\n",
            "Memoria total en bytes: 485054\n",
            "Tipo de datos de la columna gender: \n",
            " category\n",
            "Memoria total en bytes despues de modificar el tipo de dato: 9332\n"
          ]
        }
      ]
    },
    {
      "cell_type": "code",
      "source": [],
      "metadata": {
        "id": "Zc8uX_-4ocTL"
      },
      "execution_count": null,
      "outputs": []
    }
  ]
}