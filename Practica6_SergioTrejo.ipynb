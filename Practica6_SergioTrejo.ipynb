{
  "nbformat": 4,
  "nbformat_minor": 0,
  "metadata": {
    "colab": {
      "provenance": [],
      "mount_file_id": "1fR2AUdjdDx9RvhzCwjOGIkKZuYfWWeD_",
      "authorship_tag": "ABX9TyMygT4ZbeAYYZqY4r1rf3VK",
      "include_colab_link": true
    },
    "kernelspec": {
      "name": "python3",
      "display_name": "Python 3"
    },
    "language_info": {
      "name": "python"
    }
  },
  "cells": [
    {
      "cell_type": "markdown",
      "metadata": {
        "id": "view-in-github",
        "colab_type": "text"
      },
      "source": [
        "<a href=\"https://colab.research.google.com/github/strejo4/ColabFiles_UACJ_PADP/blob/main/Practica6_SergioTrejo.ipynb\" target=\"_parent\"><img src=\"https://colab.research.google.com/assets/colab-badge.svg\" alt=\"Open In Colab\"/></a>"
      ]
    },
    {
      "cell_type": "markdown",
      "source": [
        "##Manejor de librerias de pandas\n",
        "\n",
        "**Instrucciones: Carga el archivo titanic.csv en la carpeta correspondiente de Google drive para realizar los siguientes ejercicios**\n",
        "\n",
        "**Ejercicio 1: Análisis de la distribución de supervivencia por combinación de sexo y clase del pasajero.**\n",
        "\n",
        "* Calcula la proporción de supervivencia para cada combinación de 'Sex' y 'Pclass'.\n",
        "* Identifica qué combinación tuvo la tasa de supervivencia más alta.\n",
        "* Identifica qué combinación tuvo la tasa de supervivencia más baja."
      ],
      "metadata": {
        "id": "1YPNNKuly_Qb"
      }
    },
    {
      "cell_type": "code",
      "execution_count": 8,
      "metadata": {
        "colab": {
          "base_uri": "https://localhost:8080/"
        },
        "id": "0szQBGG2y5Tf",
        "outputId": "0dc7d77e-ec21-4030-8480-fe2818eac617"
      },
      "outputs": [
        {
          "output_type": "stream",
          "name": "stdout",
          "text": [
            "Proporcion de Supervivencia por Combinacion de Sexo y Clase del Pasajero:\n",
            "Sex     Pclass\n",
            "female  1         0.968085\n",
            "        2         0.921053\n",
            "        3         0.500000\n",
            "male    1         0.368852\n",
            "        2         0.157407\n",
            "        3         0.137026\n",
            "Name: Survived, dtype: float64\n",
            "La combinacion con la tasa de supervivencia mas alta es: ('female', np.int64(1))\n",
            "La combinacion con la tasa de supervivencia mas baja es: ('male', np.int64(3))\n"
          ]
        }
      ],
      "source": [
        "import pandas as pd\n",
        "#caragr archivo\n",
        "df = pd.read_csv('/content/drive/MyDrive/ClassFiles/titanic.csv')\n",
        "\n",
        "#Calcular la proporcion de supervivencia para cada combinacion 'Sex' y 'Pclass'\n",
        "supervivencia = df.groupby(['Sex', 'Pclass'])['Survived'].mean()  # El promedio de 0 y 1 da la proporcion de supervivencia por grupo\n",
        "print('Proporcion de Supervivencia por Combinacion de Sexo y Clase del Pasajero:')\n",
        "print(supervivencia)\n",
        "\n",
        "#Identifica que combinacion tuvo la tasa de supervivencia mas alta\n",
        "combinacion_mas_alta = supervivencia.idxmax() # Identifica la combinacion con la tasa de supervivencia mas alta (idxmax devuelve el indice del valor maximo)\n",
        "print('La combinacion con la tasa de supervivencia mas alta es:', combinacion_mas_alta)\n",
        "\n",
        "#Idnetifica que combinacion tuvo la tasa de supervivencia mas baja\n",
        "combinacion_mas_baja = supervivencia.idxmin() # Identifica la combinacion con la tasa de supervivencia mas baja (idxmin devuelve el indice del valor minimo)\n",
        "print('La combinacion con la tasa de supervivencia mas baja es:', combinacion_mas_baja)"
      ]
    },
    {
      "cell_type": "markdown",
      "source": [
        "**Ejercicio 2: Identificación de familias grandes a bordo.**\n",
        "\n",
        "* Crea una nueva columna 'FamilySize' sumando las columnas 'SibSp' y 'Parch'.\n",
        "* Considera como \"familia grande\" a aquellas donde 'FamilySize' es mayor a 3.\n",
        "* Calcula el número de pasajeros en familias grandes.\n",
        "* Calcula la proporción de supervivencia entre los pasajeros que pertenecen a familias grandes."
      ],
      "metadata": {
        "id": "boG5kWFd2erg"
      }
    },
    {
      "cell_type": "code",
      "source": [
        "# Crea una nueva columna 'FamilySize' sumando las columnas 'SibSp' y 'Parch'.\n",
        "# En este caso SibSp = Siblings/Spouses Aboard y Parch = Parents/Children Aboard\n",
        "\n",
        "df['FamilySize'] = df['Siblings/Spouses Aboard'] + df['Parents/Children Aboard']\n",
        "print(df[['Siblings/Spouses Aboard','Parents/Children Aboard','FamilySize']].head())   # Se muestran las primeras filas con SibSp, Parch y la nueva columna\n",
        "\n",
        "#Considera como familia grande a aquella donde 'FamilySize' es mayor a 3\n",
        "familias_grandes = df[df['FamilySize'] > 3]\n",
        "\n",
        "#Calcula el numero de pasajeros en familias grandes.\n",
        "num_familias_grandes = len(familias_grandes)\n",
        "print('El numero de pasajeros en familias grandes es:', num_familias_grandes)\n",
        "\n",
        "#Calcula la proporcion de supervivenciaa entre los pasajeros que pertenecen a familias grandes.\n",
        "tasa_supervivencia = familias_grandes['Survived'].mean()\n",
        "print('Proporcion de supervivencia en familias grandes: ', tasa_supervivencia)"
      ],
      "metadata": {
        "colab": {
          "base_uri": "https://localhost:8080/"
        },
        "id": "a-X4nf6A6AbI",
        "outputId": "19cc6749-3e3b-4816-ceb0-91c68879d6f4"
      },
      "execution_count": 23,
      "outputs": [
        {
          "output_type": "stream",
          "name": "stdout",
          "text": [
            "   Siblings/Spouses Aboard  Parents/Children Aboard  FamilySize\n",
            "0                        1                        0           1\n",
            "1                        1                        0           1\n",
            "2                        0                        0           0\n",
            "3                        1                        0           1\n",
            "4                        0                        0           0\n",
            "El numero de pasajeros en familias grandes es: 62\n",
            "Proporcion de supervivencia en familias grandes:  0.16129032258064516\n"
          ]
        }
      ]
    },
    {
      "cell_type": "markdown",
      "source": [
        "**Ejercicio 3: Segmentación por grupos de edad.**\n",
        "\n",
        "* Clasifica a los pasajeros en las siguientes categorías de edad(tip puede resultar mas sencillo realizarlo con una función)**\n",
        "\n",
        "  * Menor de Edad\n",
        "\n",
        "  * Mayor de Edad"
      ],
      "metadata": {
        "id": "xJ8DyzC28JNN"
      }
    },
    {
      "cell_type": "code",
      "source": [
        "#Clasificar a los pasajeros en las siguientes categorias de edad (Menos y Mayor de edad)\n",
        "def categorias_edad(edad):\n",
        "  if edad < 18:\n",
        "    return 'Menor de Edad'\n",
        "  else:\n",
        "    return 'Mayor de Edad'\n",
        "\n",
        "# Crear una nueva columna 'Categoria_Edad' aplicando la funcion a la columna 'Age'\n",
        "df['Categoria_Edad'] = df['Age'].apply(categorias_edad) # apply aplica la funcion 'clasificar_edad' a cada valor de la columna Age y luego guarda el resultado en nueva columna.\n",
        "\n",
        "print(df[['Age','Categoria_Edad']].head(10))"
      ],
      "metadata": {
        "colab": {
          "base_uri": "https://localhost:8080/"
        },
        "id": "GQJ6q0MTA2CC",
        "outputId": "125f1de9-0b81-4418-cd3b-403b073d2532"
      },
      "execution_count": 36,
      "outputs": [
        {
          "output_type": "stream",
          "name": "stdout",
          "text": [
            "    Age Categoria_Edad\n",
            "0  22.0  Mayor de Edad\n",
            "1  38.0  Mayor de Edad\n",
            "2  26.0  Mayor de Edad\n",
            "3  35.0  Mayor de Edad\n",
            "4  35.0  Mayor de Edad\n",
            "5  27.0  Mayor de Edad\n",
            "6  54.0  Mayor de Edad\n",
            "7   2.0  Menor de Edad\n",
            "8  27.0  Mayor de Edad\n",
            "9  14.0  Menor de Edad\n"
          ]
        }
      ]
    },
    {
      "cell_type": "markdown",
      "source": [
        "**Ejercicio 4: Comparación entre promedios calculados manualmente y con Pandas**\n",
        "\n",
        "* Utiliza NumPy para calcular el promedio de las columnas 'Age' y 'Fare',  ignorando valores nulos.\n",
        "* Compara estos valores con los promedios obtenidos utilizando los métodos  nativos de Pandas.\n",
        "* Verifica que los resultados sean consistentes."
      ],
      "metadata": {
        "id": "PbpXc_SdC89X"
      }
    },
    {
      "cell_type": "code",
      "source": [
        "import numpy as np\n",
        "\n",
        "#Utiliza Numpy para calcular los promedios de las columnas 'Age' y 'Fare', ignorando los valores nulos\n",
        "promedio_Age = np.nanmean(df['Age'])  # np.nanmean ignora los NaN\n",
        "promedio_Fare = np.nanmean(df['Fare'])\n",
        "print(f'Promedio de Age: {promedio_Age}')\n",
        "print(f'Promedio de Fare: {promedio_Fare}')\n",
        "\n",
        "#Compara estos valores obtenidos utilizando los metodos nativos de pandas\n",
        "promedio_Age_Pandas = df['Age'].mean() #el metodo mean() entre otros metodos estadisticos dentro de la libreria de pandas, ignoraran automaticamente los valores NaN\n",
        "promedio_Fare_Pandas = df['Fare'].mean()\n",
        "print(f'Promedio de Age (Pandas): {promedio_Age_Pandas}')\n",
        "print(f'Promedio de Fare (Pandas): {promedio_Fare_Pandas}')\n",
        "\n",
        "#Los valores son consistentes utilizando ambas librerias."
      ],
      "metadata": {
        "colab": {
          "base_uri": "https://localhost:8080/"
        },
        "id": "Y_w3elXbDTs5",
        "outputId": "9d7e1994-c331-49a6-b972-c0da4baec83e"
      },
      "execution_count": 34,
      "outputs": [
        {
          "output_type": "stream",
          "name": "stdout",
          "text": [
            "Promedio de Age: 29.471443066516347\n",
            "Promedio de Fare: 32.30542018038331\n",
            "Promedio de Age (Pandas): 29.471443066516347\n",
            "Promedio de Fare (Pandas): 32.30542018038331\n"
          ]
        }
      ]
    },
    {
      "cell_type": "markdown",
      "source": [
        "**Ejercicio 5. Creación de intervalos de clase usando NumPy y análisis con Pandas**\n",
        "\n",
        "* Divide la columna 'Fare' en 5 intervalos equidistantes utilizando la función numpy.linspace, el estudiante deberá investigar la operación de esta función en python.\n",
        "* Crea una nueva columna en el DataFrame que asigne a cada pasajero el intervalo correspondiente de su tarifa.\n",
        "* Calcula el número de pasajeros en cada intervalo utilizando Pandas y la proporción de supervivientes por intervalo.\n"
      ],
      "metadata": {
        "id": "gv86ZCD2Eo4q"
      }
    },
    {
      "cell_type": "code",
      "source": [
        "import numpy as np\n",
        "import pandas as pd\n",
        "\n",
        "#Divide la columna 'Fare' en 5 intervalos con la misma distancia para 'Fare' usando np.linspace\n",
        "bins = np.linspace(df['Fare'].min(), df['Fare'].max(), num=6) # Se toma el minimo y maximo de la columna 'Fare' y se generan 5 intervalos\n",
        "print(f'Estos son los 5 intervalos equidistantes: {bins}')\n"
      ],
      "metadata": {
        "colab": {
          "base_uri": "https://localhost:8080/"
        },
        "id": "Xzm-gh6_GMn7",
        "outputId": "7c20ac2d-4b3b-4f09-9244-823a4630c517"
      },
      "execution_count": 38,
      "outputs": [
        {
          "output_type": "stream",
          "name": "stdout",
          "text": [
            "Estos son los 5 intervalos equidistantes: [  0.      102.46584 204.93168 307.39752 409.86336 512.3292 ]\n"
          ]
        }
      ]
    },
    {
      "cell_type": "code",
      "source": [
        "#Crear una columna nueva que llamaremos Intervalo_Tarifa en el DataFrame. Esta columna va a asignar a cada pasajero el intervalo correspondiente de su tarifa.\n",
        "import pandas as pd\n",
        "\n",
        "df['Intervalo_Tarifa'] =  pd.cut(df['Fare'], bins=bins, include_lowest=True) #Clasiicar  las tarifas en unos de los 5 intervalos definidos.\n",
        "print(df[['Fare','Intervalo_Tarifa']].head(20)) #Mostras los primeros 20 resultados\n",
        "\n",
        "#la columna Fare muestra la tarifa pagada y la columna Intervalo_Tarifa indica en que rango cae ese valor por ejemplo 7.25 → (0.0, 102.465], 512.33 → (409.863, 512.329]"
      ],
      "metadata": {
        "colab": {
          "base_uri": "https://localhost:8080/"
        },
        "id": "bzcQVbH_H91V",
        "outputId": "d314b6d9-702e-4716-e599-36da1a199ae4"
      },
      "execution_count": 45,
      "outputs": [
        {
          "output_type": "stream",
          "name": "stdout",
          "text": [
            "       Fare   Intervalo_Tarifa\n",
            "0    7.2500  (-0.001, 102.466]\n",
            "1   71.2833  (-0.001, 102.466]\n",
            "2    7.9250  (-0.001, 102.466]\n",
            "3   53.1000  (-0.001, 102.466]\n",
            "4    8.0500  (-0.001, 102.466]\n",
            "5    8.4583  (-0.001, 102.466]\n",
            "6   51.8625  (-0.001, 102.466]\n",
            "7   21.0750  (-0.001, 102.466]\n",
            "8   11.1333  (-0.001, 102.466]\n",
            "9   30.0708  (-0.001, 102.466]\n",
            "10  16.7000  (-0.001, 102.466]\n",
            "11  26.5500  (-0.001, 102.466]\n",
            "12   8.0500  (-0.001, 102.466]\n",
            "13  31.2750  (-0.001, 102.466]\n",
            "14   7.8542  (-0.001, 102.466]\n",
            "15  16.0000  (-0.001, 102.466]\n",
            "16  29.1250  (-0.001, 102.466]\n",
            "17  13.0000  (-0.001, 102.466]\n",
            "18  18.0000  (-0.001, 102.466]\n",
            "19   7.2250  (-0.001, 102.466]\n"
          ]
        }
      ]
    },
    {
      "cell_type": "code",
      "source": [
        "#Calcular el numero de pasajeros en cada intervalo utilizando Pandas y la proporción de supervivientes por intervalo.\n",
        "\n",
        "#COnteo de pasajeros por intervalo de las tarifas que calculamos anteriormente.\n",
        "conteo_intervalos = df['Intervalo_Tarifa'].value_counts().sort_index() #Esta linea cuenta cuantos pasajeros caen en cada intervalo.\n",
        "print(conteo_intervalos)\n",
        "\n",
        "#Proporcion de supervivencia por intervalo.\n",
        "intervalos_supervicencia = df.groupby('Intervalo_Tarifa')['Survived'].mean() #Calcula el promedio de 0 y 1 da la proporcion de supervivencia en cada intervalo.\n",
        "print(f'Proporcion de supervivientes por intervalo: {intervalos_supervicencia}')\n"
      ],
      "metadata": {
        "colab": {
          "base_uri": "https://localhost:8080/"
        },
        "id": "CrUnHNZWKT3U",
        "outputId": "a2164baf-67eb-4801-dbe2-749d67ba824f"
      },
      "execution_count": 54,
      "outputs": [
        {
          "output_type": "stream",
          "name": "stdout",
          "text": [
            "Intervalo_Tarifa\n",
            "(-0.001, 102.466]     834\n",
            "(102.466, 204.932]     33\n",
            "(204.932, 307.398]     17\n",
            "(307.398, 409.863]      0\n",
            "(409.863, 512.329]      3\n",
            "Name: count, dtype: int64\n",
            "Proporcion de supervivientes por intervalo: Intervalo_Tarifa\n",
            "(-0.001, 102.466]     0.363309\n",
            "(102.466, 204.932]    0.757576\n",
            "(204.932, 307.398]    0.647059\n",
            "(307.398, 409.863]         NaN\n",
            "(409.863, 512.329]    1.000000\n",
            "Name: Survived, dtype: float64\n"
          ]
        },
        {
          "output_type": "stream",
          "name": "stderr",
          "text": [
            "/tmp/ipython-input-2346742928.py:8: FutureWarning: The default of observed=False is deprecated and will be changed to True in a future version of pandas. Pass observed=False to retain current behavior or observed=True to adopt the future default and silence this warning.\n",
            "  intervalos_supervicencia = df.groupby('Intervalo_Tarifa')['Survived'].mean() #Calcula el promedio de 0 y 1 da la proporcion de supervivencia en cada intervalo.\n"
          ]
        }
      ]
    },
    {
      "cell_type": "code",
      "source": [],
      "metadata": {
        "id": "DNpoCHUqMcq6"
      },
      "execution_count": null,
      "outputs": []
    }
  ]
}