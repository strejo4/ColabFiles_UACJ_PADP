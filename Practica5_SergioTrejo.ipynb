{
  "nbformat": 4,
  "nbformat_minor": 0,
  "metadata": {
    "colab": {
      "provenance": [],
      "authorship_tag": "ABX9TyMNWjh605A81ItXmnGtkeeF",
      "include_colab_link": true
    },
    "kernelspec": {
      "name": "python3",
      "display_name": "Python 3"
    },
    "language_info": {
      "name": "python"
    }
  },
  "cells": [
    {
      "cell_type": "markdown",
      "metadata": {
        "id": "view-in-github",
        "colab_type": "text"
      },
      "source": [
        "<a href=\"https://colab.research.google.com/github/strejo4/ColabFiles_UACJ_PADP/blob/main/Practica5_SergioTrejo.ipynb\" target=\"_parent\"><img src=\"https://colab.research.google.com/assets/colab-badge.svg\" alt=\"Open In Colab\"/></a>"
      ]
    },
    {
      "cell_type": "markdown",
      "source": [
        "##  Uso de máscaras booleanas\n",
        "\n",
        "**Crea un arreglo unidimensional con 15 números aleatorios entre 1 y 50. Luego:**\n",
        "\n",
        "* Selecciona los elementos mayores que 25 utilizando una máscara booleana.\n",
        "\n",
        "* Cuenta cuántos elementos son mayores que 25."
      ],
      "metadata": {
        "id": "ZvJ69OHYZ9Ix"
      }
    },
    {
      "cell_type": "code",
      "source": [
        "import numpy as np\n",
        "\n",
        "arreglo = np.random.randint(1, 51, 15)\n",
        "print(arreglo)\n",
        "\n",
        "#Seleccionar los elemntos mayores que 25 utilizando una mascara booleana\n",
        "mask = arreglo > 25\n",
        "print(f'Elemento que son mayores a 25: ', arreglo[mask])\n",
        "\n",
        "#Cuenta cuantos elementos son mayores que 25\n",
        "print(f'Cantidad de elementos que son mayores a 25: ', np.sum(mask)) # Cuenta cuantos elementos son mayores que 25 (True=1, False=0, la suma da el total de True)\n"
      ],
      "metadata": {
        "colab": {
          "base_uri": "https://localhost:8080/"
        },
        "id": "AAqSnpxJaQkV",
        "outputId": "a47099e3-eff5-44b2-c084-66c5208de9d9"
      },
      "execution_count": 5,
      "outputs": [
        {
          "output_type": "stream",
          "name": "stdout",
          "text": [
            "[23 21 49 19 24 17 41 40 38 11  6 13  2 24 27]\n",
            "Elemento que son mayores a 25:  [49 41 40 38 27]\n",
            "Cantidad de elementos que son mayores a 25:  5\n"
          ]
        }
      ]
    },
    {
      "cell_type": "code",
      "source": [],
      "metadata": {
        "id": "UnE26eP2fe8o"
      },
      "execution_count": null,
      "outputs": []
    }
  ]
}