{
  "nbformat": 4,
  "nbformat_minor": 0,
  "metadata": {
    "colab": {
      "provenance": [],
      "mount_file_id": "1e345xy56rMsV5RklMDvgpfLOlmFkU1zw",
      "authorship_tag": "ABX9TyMGdECbRrn3zdpR2YJRwv7z",
      "include_colab_link": true
    },
    "kernelspec": {
      "name": "python3",
      "display_name": "Python 3"
    },
    "language_info": {
      "name": "python"
    }
  },
  "cells": [
    {
      "cell_type": "markdown",
      "metadata": {
        "id": "view-in-github",
        "colab_type": "text"
      },
      "source": [
        "<a href=\"https://colab.research.google.com/github/strejo4/ColabFiles_UACJ_PADP/blob/main/Factorizacion_de_matrices_Tarea_6.ipynb\" target=\"_parent\"><img src=\"https://colab.research.google.com/assets/colab-badge.svg\" alt=\"Open In Colab\"/></a>"
      ]
    },
    {
      "cell_type": "markdown",
      "source": [
        "## Obtenga la factorización LU de la matriz B"
      ],
      "metadata": {
        "id": "TWmRjH-gpUsE"
      }
    },
    {
      "cell_type": "code",
      "execution_count": 2,
      "metadata": {
        "colab": {
          "base_uri": "https://localhost:8080/"
        },
        "id": "jsSUnvhcdVEu",
        "outputId": "ceedfba6-ade5-4640-e9a3-a536d4df6cb0"
      },
      "outputs": [
        {
          "output_type": "stream",
          "name": "stdout",
          "text": [
            "P =\n",
            " [[1. 0. 0.]\n",
            " [0. 0. 1.]\n",
            " [0. 1. 0.]]\n",
            "L =\n",
            " [[ 1.          0.          0.        ]\n",
            " [-0.20512821  1.          0.        ]\n",
            " [-0.1025641  -0.28368794  1.        ]]\n",
            "U =\n",
            " [[ 9.75        4.5        -2.        ]\n",
            " [ 0.          5.42307692 -1.41025641]\n",
            " [ 0.          0.          3.89479905]]\n",
            "P·L·U =\n",
            " [[ 9.75  4.5  -2.  ]\n",
            " [-1.   -2.    4.5 ]\n",
            " [-2.    4.5  -1.  ]]\n"
          ]
        }
      ],
      "source": [
        "import numpy as np\n",
        "# Importamos la función lu de SciPy, que hace la factorización LU\n",
        "from scipy.linalg import lu\n",
        "# Esta es la matriz que se construyo para que fuera diagonalmente dominante\n",
        "B = np.array([[9.75, 4.5, -2],\n",
        "              [-1, -2, 4.5],\n",
        "              [-2, 4.5, -1]])\n",
        "\n",
        "# Aplicamos la factorización LU sobre B\n",
        "# SciPy devuelve tres matrices: P, L y U\n",
        "P, L, U = lu(B)\n",
        "\n",
        "# Imprimimos la matriz de permutación P\n",
        "# P indica si se intercambiaron filas durante la factorización\n",
        "print(\"P =\\n\", P)\n",
        "\n",
        "# Imprimimos la matriz L\n",
        "print(\"L =\\n\", L)\n",
        "\n",
        "# Imprimimos la matriz U\n",
        "print(\"U =\\n\", U)\n",
        "\n",
        "# Verificación:\n",
        "# Multiplicamos P * L * U y mostramos el resultado\n",
        "# Debe ser exactamente igual a la matriz original B\n",
        "print(\"P·L·U =\\n\", P @ L @ U)\n",
        "\n"
      ]
    },
    {
      "cell_type": "code",
      "source": [],
      "metadata": {
        "id": "8Sq7Szdnk2eI"
      },
      "execution_count": null,
      "outputs": []
    }
  ]
}